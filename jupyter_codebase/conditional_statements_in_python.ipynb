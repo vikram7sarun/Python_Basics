{
 "cells": [
  {
   "cell_type": "markdown",
   "metadata": {},
   "source": [
    "if statement:\n",
    " \n",
    " Syntax:\n",
    "  - if True:\n",
    "       print(\"Hello\")"
   ]
  },
  {
   "cell_type": "code",
   "execution_count": 6,
   "metadata": {},
   "outputs": [
    {
     "name": "stdout",
     "output_type": "stream",
     "text": [
      "Enter any Number : 10\n",
      "Even Number\n",
      "Bye\n"
     ]
    }
   ],
   "source": [
    "user_input = int(input(\"Enter any Number : \"))\n",
    "result = user_input % 2\n",
    "if result == 0:\n",
    "    print(\"Even Number\")\n",
    "print(\"Bye\")"
   ]
  },
  {
   "cell_type": "markdown",
   "metadata": {},
   "source": [
    "if else statement"
   ]
  },
  {
   "cell_type": "code",
   "execution_count": 8,
   "metadata": {},
   "outputs": [
    {
     "name": "stdout",
     "output_type": "stream",
     "text": [
      "Enter any Number : 44\n",
      "Entered Number is Even\n"
     ]
    }
   ],
   "source": [
    "user_input = int(input(\"Enter any Number : \"))\n",
    "result = user_input % 2\n",
    "if result == 0:\n",
    "    print(\"Entered Number is Even\")\n",
    "else:\n",
    "    print(\"Entered Number is ODD\")"
   ]
  },
  {
   "cell_type": "markdown",
   "metadata": {},
   "source": [
    "if , elif and else statement"
   ]
  },
  {
   "cell_type": "code",
   "execution_count": 13,
   "metadata": {},
   "outputs": [
    {
     "name": "stdout",
     "output_type": "stream",
     "text": [
      "Enter any Number : 6\n",
      "Entered number is greater then 10\n"
     ]
    }
   ],
   "source": [
    "user_input = int(input(\"Enter any Number : \"))\n",
    "result = user_input * 2\n",
    "if result == 4:\n",
    "    print(\"Entered number is\",result)\n",
    "elif result == 6:\n",
    "    print(\"Entered number is\",result)\n",
    "elif result == 8:\n",
    "    print(\"Entered number is\",result)\n",
    "elif result == 10:\n",
    "    print(\"Entered number is\",result)\n",
    "else:\n",
    "    print(\"Entered number is greater then 10\")"
   ]
  }
 ],
 "metadata": {
  "kernelspec": {
   "display_name": "Python 3",
   "language": "python",
   "name": "python3"
  },
  "language_info": {
   "codemirror_mode": {
    "name": "ipython",
    "version": 3
   },
   "file_extension": ".py",
   "mimetype": "text/x-python",
   "name": "python",
   "nbconvert_exporter": "python",
   "pygments_lexer": "ipython3",
   "version": "3.7.0"
  }
 },
 "nbformat": 4,
 "nbformat_minor": 2
}
