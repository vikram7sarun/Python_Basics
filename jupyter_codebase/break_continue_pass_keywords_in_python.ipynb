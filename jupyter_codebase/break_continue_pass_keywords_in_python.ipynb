{
 "cells": [
  {
   "cell_type": "markdown",
   "metadata": {},
   "source": [
    "Break:"
   ]
  },
  {
   "cell_type": "code",
   "execution_count": 3,
   "metadata": {},
   "outputs": [
    {
     "name": "stdout",
     "output_type": "stream",
     "text": [
      "Enter number of candy you want : 2\n"
     ]
    }
   ],
   "source": [
    "candy = 10\n",
    "user_input = int(input(\"Enter number of candy you want : \"))\n",
    "\n",
    "while candy <= user_input:\n",
    "    if user_input > candy:\n",
    "        print(\"We have only :\" ,candy)\n",
    "        break\n",
    "    print(\"Candy\")\n",
    "    user_input+=1"
   ]
  },
  {
   "cell_type": "code",
   "execution_count": 29,
   "metadata": {},
   "outputs": [
    {
     "name": "stdout",
     "output_type": "stream",
     "text": [
      "Enter the candy you want : 3\n",
      "Candy 0\n",
      "Candy 1\n",
      "Candy 2\n",
      "Candy 3\n",
      "Candy 4\n",
      "Candy 5\n",
      "Candy 6\n",
      "Candy 7\n",
      "Candy 8\n",
      "Candy 9\n"
     ]
    }
   ],
   "source": [
    "candy = 10\n",
    "ask = int(input(\"Enter the candy you want : \"))\n",
    "\n",
    "for i in range(candy):\n",
    "    if ask > candy:\n",
    "        print(\"We have only\",candy,\"candy\")\n",
    "        break\n",
    "    else:\n",
    "         print(\"Candy\",i)"
   ]
  },
  {
   "cell_type": "code",
   "execution_count": 30,
   "metadata": {},
   "outputs": [
    {
     "name": "stdout",
     "output_type": "stream",
     "text": [
      "Enter the candy you want : 12\n",
      "We have only 10 candy\n"
     ]
    }
   ],
   "source": [
    "candy = 10\n",
    "ask = int(input(\"Enter the candy you want : \"))\n",
    "\n",
    "for i in range(candy):\n",
    "    if ask > candy:\n",
    "        print(\"We have only\",candy,\"candy\")\n",
    "        break\n",
    "    else:\n",
    "         print(\"Candy\",i)"
   ]
  },
  {
   "cell_type": "markdown",
   "metadata": {},
   "source": [
    "Continue:"
   ]
  },
  {
   "cell_type": "code",
   "execution_count": 34,
   "metadata": {},
   "outputs": [
    {
     "name": "stdout",
     "output_type": "stream",
     "text": [
      "1\n",
      "2\n",
      "3\n",
      "4\n",
      "6\n",
      "7\n",
      "8\n",
      "9\n",
      "11\n",
      "12\n",
      "13\n",
      "14\n",
      "16\n",
      "17\n",
      "18\n",
      "19\n"
     ]
    }
   ],
   "source": [
    "for i in range(1,20):\n",
    "    if i % 5 == 0:\n",
    "        continue\n",
    "    print(i)\n",
    "    "
   ]
  },
  {
   "cell_type": "markdown",
   "metadata": {},
   "source": [
    "Pass -> To keep execution empty we use pass"
   ]
  },
  {
   "cell_type": "code",
   "execution_count": 35,
   "metadata": {},
   "outputs": [
    {
     "name": "stdout",
     "output_type": "stream",
     "text": [
      "1\n",
      "3\n",
      "5\n",
      "7\n",
      "9\n",
      "11\n",
      "13\n",
      "15\n",
      "17\n",
      "19\n"
     ]
    }
   ],
   "source": [
    "for i in range(1,20):\n",
    "    if i%2==0:\n",
    "        pass\n",
    "    else:\n",
    "        print(i)"
   ]
  },
  {
   "cell_type": "code",
   "execution_count": null,
   "metadata": {},
   "outputs": [],
   "source": []
  }
 ],
 "metadata": {
  "kernelspec": {
   "display_name": "Python 3",
   "language": "python",
   "name": "python3"
  },
  "language_info": {
   "codemirror_mode": {
    "name": "ipython",
    "version": 3
   },
   "file_extension": ".py",
   "mimetype": "text/x-python",
   "name": "python",
   "nbconvert_exporter": "python",
   "pygments_lexer": "ipython3",
   "version": "3.7.0"
  }
 },
 "nbformat": 4,
 "nbformat_minor": 2
}
